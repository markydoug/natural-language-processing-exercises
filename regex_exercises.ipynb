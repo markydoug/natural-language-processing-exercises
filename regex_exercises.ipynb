{
 "cells": [
  {
   "cell_type": "markdown",
   "id": "48119a84",
   "metadata": {},
   "source": [
    "# Regex Exercises"
   ]
  },
  {
   "cell_type": "code",
   "execution_count": 1,
   "id": "8130c8bc",
   "metadata": {},
   "outputs": [],
   "source": [
    "import re\n",
    "import pandas as pd"
   ]
  },
  {
   "cell_type": "markdown",
   "id": "fc4ee206",
   "metadata": {},
   "source": [
    "### 1. Write a function named ```is_vowel```. It should accept a string as input and use a regular expression to determine if the passed string is a vowel. While not explicity mentioned in the lesson, you can treat the result of ```re.search``` as a boolean value that indicates whether or not the regular expression matches the given string."
   ]
  },
  {
   "cell_type": "code",
   "execution_count": 5,
   "id": "e5ec991c",
   "metadata": {},
   "outputs": [
    {
     "data": {
      "text/plain": [
       "True"
      ]
     },
     "execution_count": 5,
     "metadata": {},
     "output_type": "execute_result"
    }
   ],
   "source": [
    "bool(re.search(r'[aeiou]', 'test'))"
   ]
  },
  {
   "cell_type": "code",
   "execution_count": 9,
   "id": "154b25be",
   "metadata": {},
   "outputs": [
    {
     "data": {
      "text/plain": [
       "<re.Match object; span=(1, 2), match='a'>"
      ]
     },
     "execution_count": 9,
     "metadata": {},
     "output_type": "execute_result"
    }
   ],
   "source": [
    "re.search(r'[aeiou]', 'banana')"
   ]
  },
  {
   "cell_type": "code",
   "execution_count": 10,
   "id": "4fe04d26",
   "metadata": {},
   "outputs": [],
   "source": [
    "re.search(r'^[aeiou]', \"bananarama\")"
   ]
  },
  {
   "cell_type": "code",
   "execution_count": 11,
   "id": "eda3170f",
   "metadata": {},
   "outputs": [],
   "source": [
    "def is_vowel(string):\n",
    "    if re.search(r'^[aeiou]$', string, re.IGNORECASE):\n",
    "        return True\n",
    "    else:\n",
    "        return False"
   ]
  },
  {
   "cell_type": "code",
   "execution_count": 12,
   "id": "07ee3f79",
   "metadata": {},
   "outputs": [
    {
     "data": {
      "text/plain": [
       "False"
      ]
     },
     "execution_count": 12,
     "metadata": {},
     "output_type": "execute_result"
    }
   ],
   "source": [
    "is_vowel('help')"
   ]
  },
  {
   "cell_type": "markdown",
   "id": "aa435ea5",
   "metadata": {},
   "source": [
    "### 2. Write a function named ```is_valid_username``` that accepts a string as input. A valid username starts with a lowercase letter, and only consists of lowercase letters, numbers, or the ```_``` character. It should also be no longer than 32 characters. The function should return either ```True``` or ```False``` depending on whether the passed string is a valid username."
   ]
  },
  {
   "cell_type": "code",
   "execution_count": 16,
   "id": "8eaa92b3",
   "metadata": {},
   "outputs": [
    {
     "data": {
      "text/plain": [
       "<re.Match object; span=(0, 1), match='t'>"
      ]
     },
     "execution_count": 16,
     "metadata": {},
     "output_type": "execute_result"
    }
   ],
   "source": [
    "re.search(r'^[a-z]', 'test')"
   ]
  },
  {
   "cell_type": "code",
   "execution_count": 17,
   "id": "995f45b4",
   "metadata": {},
   "outputs": [],
   "source": [
    "re.search(r'^[a-z]', 'Test')"
   ]
  },
  {
   "cell_type": "code",
   "execution_count": 30,
   "id": "5b1194cc",
   "metadata": {},
   "outputs": [
    {
     "data": {
      "text/plain": [
       "True"
      ]
     },
     "execution_count": 30,
     "metadata": {},
     "output_type": "execute_result"
    }
   ],
   "source": [
    "bool(re.search(r'^[a-z]\\w{1,31}$', 'teSt'))"
   ]
  },
  {
   "cell_type": "code",
   "execution_count": 32,
   "id": "faba21ff",
   "metadata": {},
   "outputs": [
    {
     "data": {
      "text/plain": [
       "<re.Match object; span=(0, 4), match='test'>"
      ]
     },
     "execution_count": 32,
     "metadata": {},
     "output_type": "execute_result"
    }
   ],
   "source": [
    "re.search(r'^[a-z][a-z_0-9]{1,31}$', 'test')"
   ]
  },
  {
   "cell_type": "code",
   "execution_count": 39,
   "id": "189c8691",
   "metadata": {},
   "outputs": [],
   "source": [
    "def is_valid_username(string):\n",
    "    search = r'^[a-z][a-z_0-9]{1,31}$'\n",
    "    if re.search(search, string):\n",
    "        return True\n",
    "    else:\n",
    "        return False"
   ]
  },
  {
   "cell_type": "code",
   "execution_count": 41,
   "id": "a893b410",
   "metadata": {},
   "outputs": [
    {
     "data": {
      "text/plain": [
       "False"
      ]
     },
     "execution_count": 41,
     "metadata": {},
     "output_type": "execute_result"
    }
   ],
   "source": [
    "is_valid_username('Mark1987')"
   ]
  },
  {
   "cell_type": "code",
   "execution_count": 48,
   "id": "39296c40",
   "metadata": {},
   "outputs": [
    {
     "data": {
      "text/plain": [
       "True"
      ]
     },
     "execution_count": 48,
     "metadata": {},
     "output_type": "execute_result"
    }
   ],
   "source": [
    "is_valid_username('mark_1987_')"
   ]
  },
  {
   "cell_type": "code",
   "execution_count": 43,
   "id": "937a7ee9",
   "metadata": {},
   "outputs": [
    {
     "data": {
      "text/plain": [
       "False"
      ]
     },
     "execution_count": 43,
     "metadata": {},
     "output_type": "execute_result"
    }
   ],
   "source": [
    "is_valid_username('marK_1987')"
   ]
  },
  {
   "cell_type": "markdown",
   "id": "f2ab49bb",
   "metadata": {},
   "source": [
    "### 3. Write a regular expression to capture phone numbers. "
   ]
  },
  {
   "cell_type": "code",
   "execution_count": 68,
   "id": "1ee8df60",
   "metadata": {},
   "outputs": [],
   "source": [
    "phone_numbers = ['+86 186 6908 9563',\n",
    "                 '+1 (325) 455-0446',\n",
    "                 '+66 89-757-4306',\n",
    "                 '216-0427',\n",
    "                '() 66 000',\n",
    "                '325:665~4633']"
   ]
  },
  {
   "cell_type": "code",
   "execution_count": 69,
   "id": "ca963fe9",
   "metadata": {},
   "outputs": [
    {
     "name": "stdout",
     "output_type": "stream",
     "text": [
      "+86 186 6908 9563 True\n",
      "+1 (325) 455-0446 True\n",
      "+66 89-757-4306 True\n",
      "216-0427 True\n",
      "() 66 000 False\n",
      "325:665~4633 True\n"
     ]
    }
   ],
   "source": [
    "regex = r'(\\+?\\d+)?.?(\\(?\\d{3}\\)?)?.?\\d{3}.?\\d{4}'\n",
    "\n",
    "for num in phone_numbers:\n",
    "    print(f'{num} {bool(re.search(regex, num))}')"
   ]
  },
  {
   "cell_type": "markdown",
   "id": "5562b48b",
   "metadata": {},
   "source": [
    "### 4. Use regular expressions to convert the dates below to the standardized year-month-day format."
   ]
  },
  {
   "cell_type": "code",
   "execution_count": 70,
   "id": "2376eb66",
   "metadata": {},
   "outputs": [],
   "source": [
    "date_list = [\"02/04/19\",\n",
    "             \"02/05/19\",\n",
    "             \"02/06/19\",\n",
    "             \"02/07/19\",\n",
    "             \"02/08/19\",\n",
    "             \"02/09/19\",\n",
    "             \"02/10/19\",\n",
    "            ]"
   ]
  },
  {
   "cell_type": "code",
   "execution_count": 71,
   "id": "2b20bb0a",
   "metadata": {},
   "outputs": [],
   "source": [
    "regex = r'(\\d{2})/(\\d{2})/(\\d{2})'"
   ]
  },
  {
   "cell_type": "code",
   "execution_count": 72,
   "id": "cf6c531f",
   "metadata": {},
   "outputs": [
    {
     "name": "stdout",
     "output_type": "stream",
     "text": [
      "2019-02-04\n",
      "2019-02-05\n",
      "2019-02-06\n",
      "2019-02-07\n",
      "2019-02-08\n",
      "2019-02-09\n",
      "2019-02-10\n"
     ]
    }
   ],
   "source": [
    "for date in date_list:\n",
    "    print(re.sub(regex, r'20\\3-\\1-\\2', date))"
   ]
  },
  {
   "cell_type": "markdown",
   "id": "6ccd943a",
   "metadata": {},
   "source": [
    "### 5. Write a regex to extract the various parts of these logfile lines:"
   ]
  },
  {
   "cell_type": "code",
   "execution_count": 44,
   "id": "fed6a6ef",
   "metadata": {},
   "outputs": [],
   "source": [
    "logs = '''\n",
    "GET /api/v1/sales?page=86 [16/Apr/2019:193452+0000] HTTP/1.1 {200} 510348 \"python-requests/2.21.0\" 97.105.19.58\n",
    "POST /users_accounts/file-upload [16/Apr/2019:193452+0000] HTTP/1.1 {201} 42 \"User-Agent: Mozilla/5.0 (X11; Fedora; Fedora; Linux x86_64) AppleWebKit/537.36 (KHTML, like Gecko) Chrome/73.0.3683.86 Safari/537.36\" 97.105.19.58\n",
    "GET /api/v1/items?page=3 [16/Apr/2019:193453+0000] HTTP/1.1 {429} 3561 \"python-requests/2.21.0\" 97.105.19.58\n",
    "'''"
   ]
  },
  {
   "cell_type": "code",
   "execution_count": 45,
   "id": "610f7950",
   "metadata": {},
   "outputs": [
    {
     "data": {
      "text/plain": [
       "['GET /api/v1/sales?page=86 [16/Apr/2019:193452+0000] HTTP/1.1 {200} 510348 \"python-requests/2.21.0\" 97.105.19.58',\n",
       " 'POST /users_accounts/file-upload [16/Apr/2019:193452+0000] HTTP/1.1 {201} 42 \"User-Agent: Mozilla/5.0 (X11; Fedora; Fedora; Linux x86_64) AppleWebKit/537.36 (KHTML, like Gecko) Chrome/73.0.3683.86 Safari/537.36\" 97.105.19.58',\n",
       " 'GET /api/v1/items?page=3 [16/Apr/2019:193453+0000] HTTP/1.1 {429} 3561 \"python-requests/2.21.0\" 97.105.19.58']"
      ]
     },
     "execution_count": 45,
     "metadata": {},
     "output_type": "execute_result"
    }
   ],
   "source": [
    "logs = logs.strip().split('\\n')\n",
    "logs"
   ]
  },
  {
   "cell_type": "code",
   "execution_count": 46,
   "id": "5062bf2f",
   "metadata": {},
   "outputs": [
    {
     "data": {
      "text/plain": [
       "'GET /api/v1/sales?page=86 [16/Apr/2019:193452+0000] HTTP/1.1 {200} 510348 \"python-requests/2.21.0\" 97.105.19.58'"
      ]
     },
     "execution_count": 46,
     "metadata": {},
     "output_type": "execute_result"
    }
   ],
   "source": [
    "logs[0]"
   ]
  },
  {
   "cell_type": "code",
   "execution_count": 47,
   "id": "895880ae",
   "metadata": {},
   "outputs": [
    {
     "data": {
      "text/plain": [
       "[' ', ' ', ' ', ' ', ' ', ' ', ' ']"
      ]
     },
     "execution_count": 47,
     "metadata": {},
     "output_type": "execute_result"
    }
   ],
   "source": [
    "regex = r'\\s'\n",
    "\n",
    "re.findall(regex, logs[0])"
   ]
  },
  {
   "cell_type": "code",
   "execution_count": null,
   "id": "8e5f430e",
   "metadata": {},
   "outputs": [],
   "source": []
  }
 ],
 "metadata": {
  "kernelspec": {
   "display_name": "Python 3 (ipykernel)",
   "language": "python",
   "name": "python3"
  },
  "language_info": {
   "codemirror_mode": {
    "name": "ipython",
    "version": 3
   },
   "file_extension": ".py",
   "mimetype": "text/x-python",
   "name": "python",
   "nbconvert_exporter": "python",
   "pygments_lexer": "ipython3",
   "version": "3.9.12"
  }
 },
 "nbformat": 4,
 "nbformat_minor": 5
}
